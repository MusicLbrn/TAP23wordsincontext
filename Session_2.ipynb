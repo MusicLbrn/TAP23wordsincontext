{
 "cells": [
  {
   "cell_type": "markdown",
   "id": "3e89c5b3",
   "metadata": {},
   "source": [
    "<img align=\"left\" src=\"https://ithaka-labs.s3.amazonaws.com/static-files/images/tdm/tdmdocs/tapi-logo-small.png\" />\n",
    "\n",
    "This notebook free for educational reuse under [Creative Commons CC BY License](https://creativecommons.org/licenses/by/4.0/).\n",
    "\n",
    "Created by [J.D. Porter](https://) for the 2023 Text Analysis Pedagogy Institute, with support from [Constellate](https://constellate.org).\n",
    "\n",
    "For questions/comments/improvements, email porterjd@upenn.sas.edu<br />\n",
    "____"
   ]
  },
  {
   "cell_type": "markdown",
   "id": "68f932d1",
   "metadata": {},
   "source": [
    "# `Finding Word Meaning Through Context` `2`\n",
    "\n",
    "This is lesson `2` of 3 in the educational series on `finding word meaning in context`. This notebook is intended `to teach the basic steps involved in working with text files in Python, and introduce the concepts of programatically reading a text file, analyzing the words it contains, and writing out some results`. \n",
    "\n",
    "**Audience:** `Teachers` / `Learners` / `Researchers`\n",
    "\n",
    "**Use case:** `Tutorial` \n",
    "\n",
    "**Difficulty:** `Beginner`\n",
    "\n",
    "**Completion time:** `90 minutes`\n",
    "\n",
    "**Knowledge Required:** \n",
    "```\n",
    "* Python basics (variables, functions, lists, dictionaries)\n",
    "* The content from Session 1:\n",
    "    * Open a text file\n",
    "    * Turn its text into a list of words\n",
    "    * Clean up the words a little (remove punctuation, change the case, etc.)\n",
    "    * Count the occurrences of each word\n",
    "\n",
    "```\n",
    "\n",
    "**Knowledge Recommended:**\n",
    "```\n",
    "* n/a\n",
    "```\n",
    "\n",
    "**Learning Objectives:**\n",
    "After this lesson, learners will be able to:\n",
    "```\n",
    "1. Understand the basic ideas of distinctive differences between texts\n",
    "2. Choose parameters for running a \"most distinctive words\" function\n",
    "3. Analyze the results of a \"most distinctive words\" check\n",
    "\n",
    "```\n",
    "**Research Pipeline:**\n",
    "```\n",
    "1. Gather some files, as well as a metadata table\n",
    "2. Compare the word frequencies, and the statistical significance of their variance, in those files\n",
    "3. If you have written out some of your data, explore it in a program like Excel or Google Sheets\n",
    "4. Interpret!\n",
    "```\n",
    "___"
   ]
  },
  {
   "cell_type": "markdown",
   "id": "157c0555",
   "metadata": {},
   "source": [
    "# Required Python Libraries\n",
    "\n",
    "* To keep things simple, we will try to work with very few libraries in this notebook. This time we'll be using:\n",
    "    * os (to work with files and directories)\n",
    "    * scipy.stats (to measure statistical significance for some of our results)\n",
    "\n",
    "## Install Required Libraries"
   ]
  },
  {
   "cell_type": "code",
   "execution_count": 64,
   "id": "5480e2a8",
   "metadata": {},
   "outputs": [],
   "source": [
    "### Import Libraries ###\n",
    "import os\n",
    "from scipy.stats import fisher_exact"
   ]
  },
  {
   "cell_type": "markdown",
   "id": "8dedd148",
   "metadata": {},
   "source": [
    "# Required Data\n",
    "\n",
    "**Data Format:** \n",
    "* plain text (.txt)\n",
    "* maybe basic spreadsheet (.tsv)\n",
    "\n",
    "**Data Source:**\n",
    "\n",
    "Included files (though you may supplement these whenever you feel comfortable doing so!)\n",
    "\n",
    "**Data Quality/Bias:**\n",
    "\n",
    "Today's texts come from Wikipedia. They are subject to the usual biases associated with Wikipedia editors. I downloaded them on July 13, 2023, so they probably won't look exactly the same if you visit the site.\n",
    "\n",
    "**Data Description:**\n",
    "\n",
    "This lesson uses textual data in .txt format (utf-8 encoding) from Wikipedia."
   ]
  },
  {
   "cell_type": "markdown",
   "id": "f53edaa2",
   "metadata": {
    "tags": []
   },
   "source": [
    "# Introduction to Session 2"
   ]
  },
  {
   "cell_type": "markdown",
   "id": "e1851bbf-1e24-419a-981d-f77e93543358",
   "metadata": {},
   "source": [
    "Today's session might feel like a bit of a detour, but I want to cover this material today for a few reasons. \n",
    "\n",
    "First, we're going to need it at some point. The skills we learned in Session 1 have put us pretty close to being able to extract collocates—the context words that, we suspect, may help us interpret the meanings of words that interest us (let's call those 'target words'). But when we've found our collocates, how will we know which ones matter? After all, for any given target word, there will surely be many collocates, some of them the workaday words that tend to show up everywhere (\"the\",\"and\",\"of\", etc.), and, on the other end of the spectrum, some of them so infrequent that we might hesitate to ascribe much importance to them. To make sense of our data, we're going to want to be able to find words that are showing up _significantly_ more often near our target words.\n",
    "\n",
    "Second, this material is more complicated than most of what we're doing. On one hand, it might be a little bit of a challenge to jump right into this stuff, especially for those of you who are newer to programming or to Python. On the other hand, if we need to slow down, we can pick up the slack in Session 3!\n",
    "\n",
    "The last reason is more rhetorical. This material takes a little time to cover. By doing it now, we ensure that we get to collocates in the last session. It just feels more fun to _arrive_ at collocates on the last day, right?"
   ]
  },
  {
   "cell_type": "markdown",
   "id": "ceb84723-deb5-488f-8504-71721c8d78ab",
   "metadata": {
    "tags": []
   },
   "source": [
    "# Review: Getting word counts from texts"
   ]
  },
  {
   "cell_type": "code",
   "execution_count": 71,
   "id": "8966f233-ad26-4ff1-a9c3-034ed740d4ad",
   "metadata": {},
   "outputs": [],
   "source": [
    "# Start with a filename\n"
   ]
  },
  {
   "cell_type": "code",
   "execution_count": null,
   "id": "dbadb315-91ee-4729-b75b-0b175b70ab3e",
   "metadata": {},
   "outputs": [],
   "source": [
    "# Open it and get the text\n"
   ]
  },
  {
   "cell_type": "code",
   "execution_count": null,
   "id": "2ceb8ca4-743c-42f0-8869-9bfd7d159379",
   "metadata": {},
   "outputs": [],
   "source": [
    "# Turn the text into words\n"
   ]
  },
  {
   "cell_type": "code",
   "execution_count": null,
   "id": "cec67461-2a5e-4259-8bb3-ea4840d315df",
   "metadata": {},
   "outputs": [],
   "source": [
    "# Clean the words\n",
    "\n",
    "# We can use this function for today\n",
    "def alphaclean(someword):\n",
    "    chars = [i for i in someword if i.isalpha()]\n",
    "    cleanword = ''.join(chars)\n",
    "    cleanword = cleanword.lower()\n",
    "    return cleanword"
   ]
  },
  {
   "cell_type": "code",
   "execution_count": null,
   "id": "0f33406f-966c-400d-b8f2-234e7acfc793",
   "metadata": {},
   "outputs": [],
   "source": [
    "# Count the words!\n"
   ]
  },
  {
   "cell_type": "markdown",
   "id": "ef7bedf4-4d8f-4978-bfe9-51fba2d18a04",
   "metadata": {},
   "source": [
    "# Comparing files"
   ]
  },
  {
   "cell_type": "code",
   "execution_count": null,
   "id": "95bfe8b6-f6a5-4300-b6d1-f791bfca198a",
   "metadata": {},
   "outputs": [],
   "source": [
    "# Getting the filenames from a directory\n"
   ]
  },
  {
   "cell_type": "code",
   "execution_count": null,
   "id": "5965e9b1-b007-4143-a3ce-fc56de23f221",
   "metadata": {},
   "outputs": [],
   "source": [
    "# Seeing how long each file is\n"
   ]
  },
  {
   "cell_type": "code",
   "execution_count": null,
   "id": "fd26d999-3691-4c7a-82e3-fa78496f669e",
   "metadata": {},
   "outputs": [],
   "source": [
    "# Counting a target word\n"
   ]
  },
  {
   "cell_type": "code",
   "execution_count": null,
   "id": "7b4740a1-85fb-4089-9258-08724ae0e337",
   "metadata": {},
   "outputs": [],
   "source": [
    "# Moving from counts to frequencies\n"
   ]
  },
  {
   "cell_type": "markdown",
   "id": "2a0b395e-77d4-4729-89a5-530d8b3033ef",
   "metadata": {},
   "source": [
    "# Figuring out which counts _count_..."
   ]
  },
  {
   "cell_type": "markdown",
   "id": "b900a797-25a1-4c44-b64b-5bcbec648ea6",
   "metadata": {},
   "source": [
    "Raw counts have pretty limited use when it comes to comparing a word across texts. They're not _nothing_: If someone uses a word a lot, they really did use the word a lot! Even if the text is long, you as the reader really did get exposed to all of those uses! But they don't tell us much about the _importance_ of a word in a text, especially if we want to compare across works of different lengths.\n",
    "\n",
    "Frequencies are a big improvement, since they scale for length. With frequencies, we can say that the Wikipedia article for Paul McCartney uses the word \"Liverpool\" more often _per word_ —that is, \"Liverpool\" tales up more of the text for McCartney than it does for the other lads. Yet even frequencies can be somewhat difficult to interpret. Just how big a difference is it to say \"Liverpool\" 14 times per 10,000 words compared to 10.3? Or to 8.7?\n",
    "\n",
    "There are several ways to approach this problem, and to my knowledge, none is exactly standard yet, at least in my corner of text analysis (Digital Humanities with a literary critical focus). You can find a nice summary of several well-established approaches on the [Zeta Project website](https://zeta-project.eu/en/keyness-measures/). You may have heard of some of these: chi-squared tests, TF-IDF scores, Burrow's Zeta... the list goes on.\n",
    "\n",
    "Although the approaches differ in important ways, they have in common the goal of finding _distinctive_ words by measuring which words show up in which places more often than we'd expect. More often? Expect? What do these terms mean? What exactly is our expectation based on? Well, it depends! We have so many methods precisely because of the ambiguity of this question, along with various practical considerations (e.g., some methods are better at finding \"content\" words, some are better at handling corpora of radically different sizes, and so on). \n",
    "\n",
    "The method I prefer was developed at the Stanford Literary Lab, and involves a modified form of a Fisher's Exact Test. For today, we'll focus on this method, for a couple reasons:\n",
    "* It's the method I know best, so I'm better positioned to discuss it.\n",
    "* To me the results are usually quite legible—this is one of those \"the proof is in the pudding\" situations where I've continued using this approach because I've liked the output.\n",
    "\n"
   ]
  },
  {
   "cell_type": "markdown",
   "id": "7b2054f3-2646-4cc5-8381-a5921ccbdc27",
   "metadata": {
    "tags": []
   },
   "source": [
    "# Fisher's Exact Test"
   ]
  },
  {
   "cell_type": "markdown",
   "id": "aea2eea1-522b-4a54-af5c-1b12e2ab26e8",
   "metadata": {
    "tags": []
   },
   "source": [
    "Fisher's Exact Test was developed by Ronald Fisher when a colleague of his, Muriel Bristol, claimed that she could tell whether milk was added to a tea cup before or after the tea was poured. Fisher tested her with eight cups and she got them all right. In a roundabout way, this led Fisher to develop a test that could measure the statistical significance of results for experiments like this. (Everyone who teaches the Fisher's Exact Test is required to share this story.)\n",
    "\n",
    "\n",
    "The math behind this test is complicated, so we won't go into much detail here. If you're interested, I think [Wolfram MathWorld](https://mathworld.wolfram.com/FishersExactTest.html) has a pretty approachable explanation. They give the example of trying to figure out whether math and biology papers are appearing significantly more often in _Mathematics Magazine_ and _Science_ (respectively). The upshot is that running a Fisher's Exact Test requires creating a 2x2 grid, which in Python winds up being a list of lists (this is the same principle behind our approach to making an output table in Session 1). It looks roughly like this:\n",
    "```Python\n",
    "grid = [[a,b],[c,d]]\n",
    "```\n",
    "which, if you printed each row, would be:\n",
    "```Python\n",
    "[a,b]\n",
    "[b,c]\n",
    "```\n",
    "\n",
    "Figuring out what we need in order to fill in our variables (a,b,c, & d) will give us a decent frame for understanding what sort of information the test measures, and what its results mean for us. In the example above, from Wolfram MathWorld:\n",
    "\n",
    "* a = number of math papers in _Math Magazine_\n",
    "* b = number of math papers in _Science_\n",
    "* c = number of biology papers in _Math Magazine_\n",
    "* d = number of biology papers in _Science_\n",
    "\n",
    "For our purposes in text analysis, I'll be following an approach laid out in several Stanford Literary Lab pamphlets, perhaps most notably [\"Style at the Scale of the Sentence\"](https://litlab.stanford.edu/LiteraryLabPamphlet5.pdf).[$^{1}$](#1) It's a little unusual compared to the example above, but essentially it's trying to get at the question: Does the target word appear more often in one corpus than another? So to that end:\n",
    "\n",
    "* a = the number of times the word appeared in the corpus we're interested in\n",
    "* b = the number of times any other word appeared in that corpus\n",
    "* c = the number of times we would have expected the word to appear if it was evenly distributed across all our corpora\n",
    "* d = the number of times any other word would have appeared if the target word had been appearing at its expected rate\n",
    "\n",
    "Three of these values are pretty easy to find; only **c** is a little difficult. To get **c**, we need some kind of expected rate of appearance for our target word. My usual approach is to take the total appearances of the target word across all corpora and divide by the total word count of all the corpora. That's basically getting us the general frequency of the word. The idea is that if the target word were evenly distributed, then we'd expect it to appear at the same rate _per-word_ in every corpus. Let's call the rate **r**. So, for our Beatles example above, \"liverpool\" appears 46 times, and the total wordcount of all four articles is 47,688. To get **r**, we would just do:\n",
    "\n",
    "```Python\n",
    "r =  46 / 47,688\n",
    "```\n",
    "Or in other words, **r** is about **.00096**. Once we have our **r**, it becomes easy to get **c**, which means all of our variables are now pretty easy. Let's see if Paul's article really does mention Liverpool _significantly_ more often than the other articles. And just as a reminder, Paul's article has a total wordcount of 14,254 (let's call that **wc**):\n",
    "* a = The number of times Paul's article says \"liverpool\"\n",
    "* b = wc - a\n",
    "* c = r * wc (we actually round this number to make the future calculations work)\n",
    "* d = wc - c\n",
    "\n",
    "Thus:\n",
    "\n",
    "```Python\n",
    "a = 20\n",
    "b = 14234\n",
    "c = 14\n",
    "d = 14240\n",
    "```\n",
    "\n",
    "At this point, the complex calculation happens. But fortunately for us, Python makes this much easier. This brings us to the end of this wall of text, because now we're going to run some actual code!\n",
    "\n",
    "\n",
    "\n",
    "\n",
    "##### *Footnotes* #####\n",
    "\n",
    "1. <a id=\"1\"></a> Allison, Sarah, Marissa Gemma, Ryan Heuser, Franco Moretti, Amir Tevel, Irena Yamboliev. \"Style at the Scale of the Sentence\". Stanford Literary Lab pamphlet series, no. 5.\n"
   ]
  },
  {
   "cell_type": "code",
   "execution_count": null,
   "id": "a8ce1192-3c7c-4539-ac70-52056ffb9be9",
   "metadata": {},
   "outputs": [],
   "source": [
    "# Running the scipy.stats fisher_exact test on our \"liverpool\" data\n"
   ]
  },
  {
   "cell_type": "markdown",
   "id": "ff68aa14-43bc-4318-a0e0-a4356dba6c57",
   "metadata": {},
   "source": [
    "In this case the resulting p-value is about .19. \n",
    "\n",
    "We won't go into p-values very much in this session, but the general idea (at least as we're using it) is that a p-value captures the likelihood that your result might have occurred by chance. A lower p-value indicates that the result probably didn't occur randomly, or in other words that our hypothesized explanation is more apt to be a _good_ explanation.\n",
    "\n",
    "Generally speaking, people set their p-value cutoff (often called _alpha_) at .05. Anything below that is considered \"statistically significant\". There is no hard and fast reason why alpha needs to be .05, and some have argued that in some cases it should be much lower. Still, as far as I'm aware, .05 remains a fairly standard alpha.\n",
    "\n",
    "The nuances of proper alpha thresholds don't even matter in this case, though: Our p-value for \"liverpool\" in Paul's article is _well_ above alpha! We can be pretty confident that Paul's article _doesn't_ meaningfully say \"liverpool\" more than those for the other lads.\n",
    "\n",
    "Let's try another word for practice: \"bass\""
   ]
  },
  {
   "cell_type": "code",
   "execution_count": null,
   "id": "76957884-b873-4510-b016-f91d922bd36a",
   "metadata": {
    "tags": []
   },
   "outputs": [],
   "source": [
    "# Let's copy some of our \"liverpool\" code from above and switch the target word\n"
   ]
  },
  {
   "cell_type": "markdown",
   "id": "f23d7ac7-613c-4685-8740-3161fdedb2b7",
   "metadata": {
    "tags": []
   },
   "source": [
    "# Finding all of the distinctive words"
   ]
  },
  {
   "cell_type": "code",
   "execution_count": null,
   "id": "f1ce580f-afe5-4e68-8504-a3f517b5bc79",
   "metadata": {
    "tags": []
   },
   "outputs": [],
   "source": [
    "# First, let's go through this function that will get the p-value for a target word and figure out what we need\n",
    "\n",
    "def get_fishers(someword,somecountdict,someratedict,alternative='greater'):\n",
    "    r = someratedict[someword]\n",
    "    wc = sum(somecountdict.values())\n",
    "    a = somecountdict[someword]\n",
    "    b = wc - a\n",
    "    c = round(r*wc)\n",
    "    d = wc-c\n",
    "    p = fisher_exact([[a,b],[c,d]],alternative=alternative)[1]\n",
    "    return p"
   ]
  },
  {
   "cell_type": "code",
   "execution_count": 63,
   "id": "9b6e936e-b135-4638-8a7e-cdbde73537e3",
   "metadata": {
    "tags": []
   },
   "outputs": [],
   "source": [
    "# To make life easier later, we may want to make a nested dictionary with results for every subcorpus (here, just documents)\n",
    "\n",
    "# As we go, if we record the overall count of each word, it will be easier to make a rate dictionary later\n",
    "\n",
    "        \n",
    "# Now we can make a rate dictionary using the info we've already collected\n"
   ]
  },
  {
   "cell_type": "markdown",
   "id": "50ba05b7-5f73-44ca-9fb9-e97315e67d63",
   "metadata": {
    "tags": []
   },
   "source": [
    "### Make some decisions\n",
    "\n",
    "* Pick a cutoff (words must appear x times or we ignore them)\n",
    "    * A higher cutoff makes the process much faster\n",
    "    * You may also find infrequent words less interesting to analyze (although maybe not!)\n",
    "* Choose an alpha (.05 is standard)\n",
    "* Decide whether you want to exclude stopwords"
   ]
  },
  {
   "cell_type": "code",
   "execution_count": null,
   "id": "f76e1d21-4949-45a8-9a51-14a7d2e4d5ec",
   "metadata": {
    "tags": []
   },
   "outputs": [],
   "source": [
    "cutoff = 5\n",
    "exclude_stops = True\n",
    "alpha = .05"
   ]
  },
  {
   "cell_type": "markdown",
   "id": "ab7a483c-56b9-4ab9-b83b-59157924e83e",
   "metadata": {},
   "source": [
    "# Working with the results"
   ]
  }
 ],
 "metadata": {
  "kernelspec": {
   "display_name": "Python 3 (ipykernel)",
   "language": "python",
   "name": "python3"
  },
  "language_info": {
   "codemirror_mode": {
    "name": "ipython",
    "version": 3
   },
   "file_extension": ".py",
   "mimetype": "text/x-python",
   "name": "python",
   "nbconvert_exporter": "python",
   "pygments_lexer": "ipython3",
   "version": "3.8.17"
  },
  "toc": {
   "base_numbering": 1,
   "nav_menu": {},
   "number_sections": true,
   "sideBar": true,
   "skip_h1_title": false,
   "title_cell": "Table of Contents",
   "title_sidebar": "Contents",
   "toc_cell": false,
   "toc_position": {},
   "toc_section_display": true,
   "toc_window_display": true
  }
 },
 "nbformat": 4,
 "nbformat_minor": 5
}
